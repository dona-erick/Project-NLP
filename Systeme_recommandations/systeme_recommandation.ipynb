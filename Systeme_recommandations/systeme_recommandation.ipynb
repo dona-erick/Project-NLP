{
 "cells": [
  {
   "cell_type": "code",
   "execution_count": 1,
   "metadata": {},
   "outputs": [],
   "source": [
    "import pandas as pd\n",
    "import numpy as np\n",
    "import matplotlib.pyplot as plt\n",
    "import joblib, pickle\n",
    "import gensim\n",
    "from gensim.models import word2vec\n"
   ]
  },
  {
   "cell_type": "code",
   "execution_count": 2,
   "metadata": {},
   "outputs": [
    {
     "data": {
      "text/html": [
       "<div>\n",
       "<style scoped>\n",
       "    .dataframe tbody tr th:only-of-type {\n",
       "        vertical-align: middle;\n",
       "    }\n",
       "\n",
       "    .dataframe tbody tr th {\n",
       "        vertical-align: top;\n",
       "    }\n",
       "\n",
       "    .dataframe thead th {\n",
       "        text-align: right;\n",
       "    }\n",
       "</style>\n",
       "<table border=\"1\" class=\"dataframe\">\n",
       "  <thead>\n",
       "    <tr style=\"text-align: right;\">\n",
       "      <th></th>\n",
       "      <th>track_id</th>\n",
       "      <th>track_name</th>\n",
       "      <th>track_artist</th>\n",
       "      <th>track_popularity</th>\n",
       "      <th>track_album_id</th>\n",
       "      <th>track_album_name</th>\n",
       "      <th>track_album_release_date</th>\n",
       "      <th>playlist_name</th>\n",
       "      <th>playlist_id</th>\n",
       "      <th>playlist_genre</th>\n",
       "      <th>...</th>\n",
       "      <th>key</th>\n",
       "      <th>loudness</th>\n",
       "      <th>mode</th>\n",
       "      <th>speechiness</th>\n",
       "      <th>acousticness</th>\n",
       "      <th>instrumentalness</th>\n",
       "      <th>liveness</th>\n",
       "      <th>valence</th>\n",
       "      <th>tempo</th>\n",
       "      <th>duration_ms</th>\n",
       "    </tr>\n",
       "  </thead>\n",
       "  <tbody>\n",
       "    <tr>\n",
       "      <th>0</th>\n",
       "      <td>6f807x0ima9a1j3VPbc7VN</td>\n",
       "      <td>I Don't Care (with Justin Bieber) - Loud Luxur...</td>\n",
       "      <td>Ed Sheeran</td>\n",
       "      <td>66</td>\n",
       "      <td>2oCs0DGTsRO98Gh5ZSl2Cx</td>\n",
       "      <td>I Don't Care (with Justin Bieber) [Loud Luxury...</td>\n",
       "      <td>2019-06-14</td>\n",
       "      <td>Pop Remix</td>\n",
       "      <td>37i9dQZF1DXcZDD7cfEKhW</td>\n",
       "      <td>pop</td>\n",
       "      <td>...</td>\n",
       "      <td>6</td>\n",
       "      <td>-2.634</td>\n",
       "      <td>1</td>\n",
       "      <td>0.0583</td>\n",
       "      <td>0.1020</td>\n",
       "      <td>0.000000</td>\n",
       "      <td>0.0653</td>\n",
       "      <td>0.518</td>\n",
       "      <td>122.036</td>\n",
       "      <td>194754</td>\n",
       "    </tr>\n",
       "    <tr>\n",
       "      <th>1</th>\n",
       "      <td>0r7CVbZTWZgbTCYdfa2P31</td>\n",
       "      <td>Memories - Dillon Francis Remix</td>\n",
       "      <td>Maroon 5</td>\n",
       "      <td>67</td>\n",
       "      <td>63rPSO264uRjW1X5E6cWv6</td>\n",
       "      <td>Memories (Dillon Francis Remix)</td>\n",
       "      <td>2019-12-13</td>\n",
       "      <td>Pop Remix</td>\n",
       "      <td>37i9dQZF1DXcZDD7cfEKhW</td>\n",
       "      <td>pop</td>\n",
       "      <td>...</td>\n",
       "      <td>11</td>\n",
       "      <td>-4.969</td>\n",
       "      <td>1</td>\n",
       "      <td>0.0373</td>\n",
       "      <td>0.0724</td>\n",
       "      <td>0.004210</td>\n",
       "      <td>0.3570</td>\n",
       "      <td>0.693</td>\n",
       "      <td>99.972</td>\n",
       "      <td>162600</td>\n",
       "    </tr>\n",
       "    <tr>\n",
       "      <th>2</th>\n",
       "      <td>1z1Hg7Vb0AhHDiEmnDE79l</td>\n",
       "      <td>All the Time - Don Diablo Remix</td>\n",
       "      <td>Zara Larsson</td>\n",
       "      <td>70</td>\n",
       "      <td>1HoSmj2eLcsrR0vE9gThr4</td>\n",
       "      <td>All the Time (Don Diablo Remix)</td>\n",
       "      <td>2019-07-05</td>\n",
       "      <td>Pop Remix</td>\n",
       "      <td>37i9dQZF1DXcZDD7cfEKhW</td>\n",
       "      <td>pop</td>\n",
       "      <td>...</td>\n",
       "      <td>1</td>\n",
       "      <td>-3.432</td>\n",
       "      <td>0</td>\n",
       "      <td>0.0742</td>\n",
       "      <td>0.0794</td>\n",
       "      <td>0.000023</td>\n",
       "      <td>0.1100</td>\n",
       "      <td>0.613</td>\n",
       "      <td>124.008</td>\n",
       "      <td>176616</td>\n",
       "    </tr>\n",
       "    <tr>\n",
       "      <th>3</th>\n",
       "      <td>75FpbthrwQmzHlBJLuGdC7</td>\n",
       "      <td>Call You Mine - Keanu Silva Remix</td>\n",
       "      <td>The Chainsmokers</td>\n",
       "      <td>60</td>\n",
       "      <td>1nqYsOef1yKKuGOVchbsk6</td>\n",
       "      <td>Call You Mine - The Remixes</td>\n",
       "      <td>2019-07-19</td>\n",
       "      <td>Pop Remix</td>\n",
       "      <td>37i9dQZF1DXcZDD7cfEKhW</td>\n",
       "      <td>pop</td>\n",
       "      <td>...</td>\n",
       "      <td>7</td>\n",
       "      <td>-3.778</td>\n",
       "      <td>1</td>\n",
       "      <td>0.1020</td>\n",
       "      <td>0.0287</td>\n",
       "      <td>0.000009</td>\n",
       "      <td>0.2040</td>\n",
       "      <td>0.277</td>\n",
       "      <td>121.956</td>\n",
       "      <td>169093</td>\n",
       "    </tr>\n",
       "    <tr>\n",
       "      <th>4</th>\n",
       "      <td>1e8PAfcKUYoKkxPhrHqw4x</td>\n",
       "      <td>Someone You Loved - Future Humans Remix</td>\n",
       "      <td>Lewis Capaldi</td>\n",
       "      <td>69</td>\n",
       "      <td>7m7vv9wlQ4i0LFuJiE2zsQ</td>\n",
       "      <td>Someone You Loved (Future Humans Remix)</td>\n",
       "      <td>2019-03-05</td>\n",
       "      <td>Pop Remix</td>\n",
       "      <td>37i9dQZF1DXcZDD7cfEKhW</td>\n",
       "      <td>pop</td>\n",
       "      <td>...</td>\n",
       "      <td>1</td>\n",
       "      <td>-4.672</td>\n",
       "      <td>1</td>\n",
       "      <td>0.0359</td>\n",
       "      <td>0.0803</td>\n",
       "      <td>0.000000</td>\n",
       "      <td>0.0833</td>\n",
       "      <td>0.725</td>\n",
       "      <td>123.976</td>\n",
       "      <td>189052</td>\n",
       "    </tr>\n",
       "  </tbody>\n",
       "</table>\n",
       "<p>5 rows × 23 columns</p>\n",
       "</div>"
      ],
      "text/plain": [
       "                 track_id                                         track_name  \\\n",
       "0  6f807x0ima9a1j3VPbc7VN  I Don't Care (with Justin Bieber) - Loud Luxur...   \n",
       "1  0r7CVbZTWZgbTCYdfa2P31                    Memories - Dillon Francis Remix   \n",
       "2  1z1Hg7Vb0AhHDiEmnDE79l                    All the Time - Don Diablo Remix   \n",
       "3  75FpbthrwQmzHlBJLuGdC7                  Call You Mine - Keanu Silva Remix   \n",
       "4  1e8PAfcKUYoKkxPhrHqw4x            Someone You Loved - Future Humans Remix   \n",
       "\n",
       "       track_artist  track_popularity          track_album_id  \\\n",
       "0        Ed Sheeran                66  2oCs0DGTsRO98Gh5ZSl2Cx   \n",
       "1          Maroon 5                67  63rPSO264uRjW1X5E6cWv6   \n",
       "2      Zara Larsson                70  1HoSmj2eLcsrR0vE9gThr4   \n",
       "3  The Chainsmokers                60  1nqYsOef1yKKuGOVchbsk6   \n",
       "4     Lewis Capaldi                69  7m7vv9wlQ4i0LFuJiE2zsQ   \n",
       "\n",
       "                                    track_album_name track_album_release_date  \\\n",
       "0  I Don't Care (with Justin Bieber) [Loud Luxury...               2019-06-14   \n",
       "1                    Memories (Dillon Francis Remix)               2019-12-13   \n",
       "2                    All the Time (Don Diablo Remix)               2019-07-05   \n",
       "3                        Call You Mine - The Remixes               2019-07-19   \n",
       "4            Someone You Loved (Future Humans Remix)               2019-03-05   \n",
       "\n",
       "  playlist_name             playlist_id playlist_genre  ... key  loudness  \\\n",
       "0     Pop Remix  37i9dQZF1DXcZDD7cfEKhW            pop  ...   6    -2.634   \n",
       "1     Pop Remix  37i9dQZF1DXcZDD7cfEKhW            pop  ...  11    -4.969   \n",
       "2     Pop Remix  37i9dQZF1DXcZDD7cfEKhW            pop  ...   1    -3.432   \n",
       "3     Pop Remix  37i9dQZF1DXcZDD7cfEKhW            pop  ...   7    -3.778   \n",
       "4     Pop Remix  37i9dQZF1DXcZDD7cfEKhW            pop  ...   1    -4.672   \n",
       "\n",
       "   mode  speechiness  acousticness  instrumentalness  liveness  valence  \\\n",
       "0     1       0.0583        0.1020          0.000000    0.0653    0.518   \n",
       "1     1       0.0373        0.0724          0.004210    0.3570    0.693   \n",
       "2     0       0.0742        0.0794          0.000023    0.1100    0.613   \n",
       "3     1       0.1020        0.0287          0.000009    0.2040    0.277   \n",
       "4     1       0.0359        0.0803          0.000000    0.0833    0.725   \n",
       "\n",
       "     tempo  duration_ms  \n",
       "0  122.036       194754  \n",
       "1   99.972       162600  \n",
       "2  124.008       176616  \n",
       "3  121.956       169093  \n",
       "4  123.976       189052  \n",
       "\n",
       "[5 rows x 23 columns]"
      ]
     },
     "execution_count": 2,
     "metadata": {},
     "output_type": "execute_result"
    }
   ],
   "source": [
    "data = pd.read_csv('spotify_songs.csv')\n",
    "data.head()"
   ]
  },
  {
   "cell_type": "code",
   "execution_count": 3,
   "metadata": {},
   "outputs": [
    {
     "name": "stdout",
     "output_type": "stream",
     "text": [
      "<class 'pandas.core.frame.DataFrame'>\n",
      "RangeIndex: 32833 entries, 0 to 32832\n",
      "Data columns (total 23 columns):\n",
      " #   Column                    Non-Null Count  Dtype  \n",
      "---  ------                    --------------  -----  \n",
      " 0   track_id                  32833 non-null  object \n",
      " 1   track_name                32828 non-null  object \n",
      " 2   track_artist              32828 non-null  object \n",
      " 3   track_popularity          32833 non-null  int64  \n",
      " 4   track_album_id            32833 non-null  object \n",
      " 5   track_album_name          32828 non-null  object \n",
      " 6   track_album_release_date  32833 non-null  object \n",
      " 7   playlist_name             32833 non-null  object \n",
      " 8   playlist_id               32833 non-null  object \n",
      " 9   playlist_genre            32833 non-null  object \n",
      " 10  playlist_subgenre         32833 non-null  object \n",
      " 11  danceability              32833 non-null  float64\n",
      " 12  energy                    32833 non-null  float64\n",
      " 13  key                       32833 non-null  int64  \n",
      " 14  loudness                  32833 non-null  float64\n",
      " 15  mode                      32833 non-null  int64  \n",
      " 16  speechiness               32833 non-null  float64\n",
      " 17  acousticness              32833 non-null  float64\n",
      " 18  instrumentalness          32833 non-null  float64\n",
      " 19  liveness                  32833 non-null  float64\n",
      " 20  valence                   32833 non-null  float64\n",
      " 21  tempo                     32833 non-null  float64\n",
      " 22  duration_ms               32833 non-null  int64  \n",
      "dtypes: float64(9), int64(4), object(10)\n",
      "memory usage: 5.8+ MB\n"
     ]
    }
   ],
   "source": [
    "data.info()"
   ]
  },
  {
   "cell_type": "code",
   "execution_count": 4,
   "metadata": {},
   "outputs": [
    {
     "data": {
      "text/plain": [
       "0"
      ]
     },
     "execution_count": 4,
     "metadata": {},
     "output_type": "execute_result"
    }
   ],
   "source": [
    "data.duplicated().sum()"
   ]
  },
  {
   "cell_type": "code",
   "execution_count": 5,
   "metadata": {},
   "outputs": [
    {
     "data": {
      "text/plain": [
       "(32833, 2)"
      ]
     },
     "execution_count": 5,
     "metadata": {},
     "output_type": "execute_result"
    }
   ],
   "source": [
    "df_selected = data[['track_artist', 'track_name']]\n",
    "df_selected.shape"
   ]
  },
  {
   "cell_type": "markdown",
   "metadata": {},
   "source": [
    "### Modèle de système de recommandation spotify avec Word2Vec\n",
    "\n",
    "##### Introduction\n",
    "L'application d'écoute musicale spotify est utilisée par en majorité 90% de la population pour se distraire, d'etre de bon humeur et d'etre motivé. A cet effet quand nous recherchons une album ou song sur cette appli, il se peut qu'on constate des albumns ou chansons similaires à celle écouter. Il faut donc comprendre que celle ci utilise un système de recommandations qui sur le calcul de la distance euclidienne entre les differentes topics afin de ressortir les similarités entre les artistes names ou albumns préféreés. C'est un modèle d'intelligence Artificielle qui est à la base des suggestions que nous constatons et observons. \n",
    "\n",
    "#### Technique \n",
    "\n",
    "Pour mettre en place ce genre de système , plusieurs techniques sont utilisées comme : L'apprentissage automatique ou le Deep Learning ou les Techniques de Traitement de Langage Naturel (PNL) qui fait l'objet d'actualité ces derniers moments. \n",
    "\n",
    "Nous utiliserons dans ce tutoriel, une technique simple : un modèle pré-entrainé, Word2Vec, utilisé en NLP pour la classification textuelles et détection de sentiment. "
   ]
  },
  {
   "cell_type": "code",
   "execution_count": 6,
   "metadata": {},
   "outputs": [],
   "source": [
    "df_selected.to_csv('lifestring.csv', index = False)"
   ]
  },
  {
   "cell_type": "code",
   "execution_count": 7,
   "metadata": {},
   "outputs": [
    {
     "data": {
      "text/html": [
       "<div>\n",
       "<style scoped>\n",
       "    .dataframe tbody tr th:only-of-type {\n",
       "        vertical-align: middle;\n",
       "    }\n",
       "\n",
       "    .dataframe tbody tr th {\n",
       "        vertical-align: top;\n",
       "    }\n",
       "\n",
       "    .dataframe thead th {\n",
       "        text-align: right;\n",
       "    }\n",
       "</style>\n",
       "<table border=\"1\" class=\"dataframe\">\n",
       "  <thead>\n",
       "    <tr style=\"text-align: right;\">\n",
       "      <th></th>\n",
       "      <th>track_artist</th>\n",
       "      <th>track_name</th>\n",
       "    </tr>\n",
       "  </thead>\n",
       "  <tbody>\n",
       "    <tr>\n",
       "      <th>0</th>\n",
       "      <td>Ed Sheeran</td>\n",
       "      <td>I Don't Care (with Justin Bieber) - Loud Luxur...</td>\n",
       "    </tr>\n",
       "    <tr>\n",
       "      <th>1</th>\n",
       "      <td>Maroon 5</td>\n",
       "      <td>Memories - Dillon Francis Remix</td>\n",
       "    </tr>\n",
       "    <tr>\n",
       "      <th>2</th>\n",
       "      <td>Zara Larsson</td>\n",
       "      <td>All the Time - Don Diablo Remix</td>\n",
       "    </tr>\n",
       "    <tr>\n",
       "      <th>3</th>\n",
       "      <td>The Chainsmokers</td>\n",
       "      <td>Call You Mine - Keanu Silva Remix</td>\n",
       "    </tr>\n",
       "    <tr>\n",
       "      <th>4</th>\n",
       "      <td>Lewis Capaldi</td>\n",
       "      <td>Someone You Loved - Future Humans Remix</td>\n",
       "    </tr>\n",
       "  </tbody>\n",
       "</table>\n",
       "</div>"
      ],
      "text/plain": [
       "       track_artist                                         track_name\n",
       "0        Ed Sheeran  I Don't Care (with Justin Bieber) - Loud Luxur...\n",
       "1          Maroon 5                    Memories - Dillon Francis Remix\n",
       "2      Zara Larsson                    All the Time - Don Diablo Remix\n",
       "3  The Chainsmokers                  Call You Mine - Keanu Silva Remix\n",
       "4     Lewis Capaldi            Someone You Loved - Future Humans Remix"
      ]
     },
     "execution_count": 7,
     "metadata": {},
     "output_type": "execute_result"
    }
   ],
   "source": [
    "dt = pd.read_csv('lifestring.csv')\n",
    "dt.head()"
   ]
  },
  {
   "cell_type": "code",
   "execution_count": 8,
   "metadata": {},
   "outputs": [],
   "source": [
    "### model Word2vec\n",
    "from gensim.models import Word2Vec\n",
    "from gensim.utils import simple_preprocess, simple_tokenize\n",
    "\n",
    "\n",
    "song = dt.groupby('track_name')['track_artist'].apply(list)\n",
    "song\n",
    "model = Word2Vec(sentences = song, vector_size= 200, workers= 4, \n",
    "                 window= 5, alpha= 0.025, \n",
    "                 min_count=5)\n"
   ]
  },
  {
   "cell_type": "code",
   "execution_count": 9,
   "metadata": {},
   "outputs": [],
   "source": [
    "model.build_vocab(song)"
   ]
  },
  {
   "cell_type": "code",
   "execution_count": 10,
   "metadata": {},
   "outputs": [
    {
     "data": {
      "text/plain": [
       "[('T-Pain', 0.2250695377588272),\n",
       " ('Getter', 0.19596436619758606),\n",
       " ('Musiq Soulchild', 0.19372694194316864),\n",
       " ('The Cranberries', 0.19169889390468597),\n",
       " ('Arrested Youth', 0.18472768366336823),\n",
       " ('Lost Frequencies', 0.18436619639396667),\n",
       " ('Lil Peep', 0.18370260298252106),\n",
       " ('Charlie Puth', 0.17775875329971313),\n",
       " ('Giaime', 0.17679323256015778),\n",
       " ('In This Moment', 0.1733146458864212)]"
      ]
     },
     "execution_count": 10,
     "metadata": {},
     "output_type": "execute_result"
    }
   ],
   "source": [
    "model.wv.most_similar('Ed Sheeran')"
   ]
  },
  {
   "cell_type": "code",
   "execution_count": 11,
   "metadata": {
    "scrolled": true
   },
   "outputs": [
    {
     "name": "stdout",
     "output_type": "stream",
     "text": [
      "[ 4.32189414e-03  1.69439614e-03 -1.63053290e-03 -3.93099803e-03\n",
      " -1.29127654e-03  6.86922576e-04  3.31688789e-03  1.84051204e-03\n",
      "  4.29834326e-04  1.71254203e-03 -2.58630048e-03  3.88272270e-03\n",
      "  1.35713851e-03  3.05075594e-03  2.63234996e-03  2.20517977e-03\n",
      "  4.26452095e-03  3.61026032e-03 -1.79397431e-03  4.47924063e-03\n",
      " -4.59798519e-03 -4.88244416e-03 -3.97266122e-03  1.67822558e-03\n",
      "  7.20505777e-04  1.49827870e-03  2.40048533e-03 -3.37661244e-03\n",
      " -2.14101583e-05 -6.29297458e-04  4.84718336e-03  5.05203661e-03\n",
      " -1.72580767e-04 -9.83904582e-04 -1.10837992e-03 -1.96098164e-03\n",
      " -2.12615170e-03  4.14161524e-03  4.36899299e-03  4.54403739e-03\n",
      " -3.03283479e-04  2.64614820e-03  4.23867488e-03 -2.61042127e-03\n",
      " -4.83507756e-03 -4.12332779e-03  2.61892774e-03  4.08272026e-03\n",
      " -3.41707189e-03 -3.51579464e-03 -1.61550590e-03 -2.29658815e-03\n",
      "  3.54893529e-03 -3.57805798e-03  3.21767037e-03 -5.73740865e-04\n",
      "  4.99370042e-03 -1.23530207e-03 -4.93444130e-03  1.69779488e-03\n",
      " -1.94905943e-03 -1.34250906e-03  4.89475031e-04  4.76871384e-03\n",
      "  3.61385942e-03 -7.53984787e-04  5.12838305e-04  4.77403728e-03\n",
      " -4.14976757e-03 -2.89707538e-03  4.91850253e-04  9.49195528e-04\n",
      "  6.35159493e-04 -1.09674453e-04 -2.12491490e-03  1.82333414e-03\n",
      " -2.73766951e-03  2.22319993e-03  9.71567875e-04  5.36418986e-04\n",
      "  4.12541861e-03  4.96394513e-03  3.27187940e-03  1.94470258e-03\n",
      " -3.86976957e-04 -8.50787037e-04 -1.93314091e-03 -1.11001264e-03\n",
      " -2.36011809e-03 -1.53087807e-04 -1.81206444e-03 -3.23382369e-03\n",
      "  1.82267593e-03 -5.35666710e-04  2.89306673e-03  3.37310257e-06\n",
      " -2.24833051e-03  2.59585003e-03 -1.19906489e-03 -1.93486351e-03\n",
      "  4.60886722e-03  4.36027069e-03  3.89102218e-03  1.24713624e-04\n",
      "  8.40275723e-04 -4.23206063e-03 -6.77956094e-04  4.34145331e-03\n",
      "  3.41825583e-03  6.79192715e-04  1.52483641e-03  4.19161655e-03\n",
      " -3.87488119e-03 -2.57998612e-03 -4.02832404e-03 -1.12847472e-03\n",
      "  4.03838791e-03 -2.39651185e-03  1.50617736e-04  2.13428983e-03\n",
      "  1.93858414e-03 -1.77229336e-03 -1.06553221e-03 -4.51251020e-04\n",
      " -6.87915366e-04  1.88854069e-03 -3.81537969e-03 -1.11699093e-03\n",
      " -3.66386445e-03  1.08394201e-03  4.86608566e-04 -3.73692019e-03\n",
      "  1.79784227e-04 -3.18676396e-03 -2.81138462e-03 -7.98162771e-04\n",
      " -3.14589962e-03 -1.72198936e-03 -4.71844245e-03  1.03427854e-04\n",
      "  1.01108097e-04 -3.89741850e-03  8.63109599e-04 -1.08022999e-03\n",
      " -3.17366328e-03 -2.43930984e-03  3.99004715e-03  1.61959371e-03\n",
      "  1.06176373e-03  4.56522824e-03 -4.40831063e-03  4.69570886e-03\n",
      "  4.88443952e-03 -1.88714755e-03  1.14566414e-03 -2.44509522e-03\n",
      " -2.94972793e-03 -3.29270610e-03 -4.62961523e-03 -3.65024223e-03\n",
      "  1.86379463e-03  2.79434607e-03  3.43028060e-03 -1.59258151e-03\n",
      "  5.08238981e-03  2.14721984e-03 -2.23068768e-04 -3.62495193e-03\n",
      "  4.23630793e-03  4.57572797e-03  1.98132731e-03  3.60521488e-03\n",
      " -3.97386588e-03 -1.17268262e-03  2.47195875e-03  3.50702181e-03\n",
      " -2.56478181e-03  2.21326854e-03 -3.52978357e-03  8.74874415e-04\n",
      "  1.53498841e-03 -3.84365045e-03  2.43605534e-03  4.54090489e-03\n",
      "  6.82930520e-04  3.41223809e-03  2.93678395e-03 -3.52388737e-03\n",
      "  2.28245067e-03 -1.17926940e-03  1.49846193e-03  8.53814185e-04\n",
      " -3.34821106e-03  2.77652452e-03  3.94556532e-03 -6.73560076e-04\n",
      "  2.55283597e-03 -8.86190101e-04 -4.20899643e-03  1.04618084e-03]\n"
     ]
    }
   ],
   "source": [
    "### vectors d'embedding\n",
    "vector = model.wv['Ed Sheeran']\n",
    "print(vector)"
   ]
  },
  {
   "cell_type": "code",
   "execution_count": 12,
   "metadata": {},
   "outputs": [
    {
     "name": "stdout",
     "output_type": "stream",
     "text": [
      "Le nom des artistes similaires sont:  [('T-Pain', 0.2250695377588272), ('Getter', 0.19596436619758606), ('Musiq Soulchild', 0.19372694194316864), ('The Cranberries', 0.19169889390468597), ('Arrested Youth', 0.18472768366336823)]\n"
     ]
    }
   ],
   "source": [
    "similar_songs = model.wv.most_similar('Ed Sheeran', topn = 5)\n",
    "print(\"Le nom des artistes similaires sont: \", similar_songs)"
   ]
  },
  {
   "cell_type": "code",
   "execution_count": 13,
   "metadata": {},
   "outputs": [],
   "source": [
    "model.save('recommandations.model')"
   ]
  },
  {
   "cell_type": "code",
   "execution_count": 14,
   "metadata": {},
   "outputs": [],
   "source": [
    "modeling = Word2Vec.load('recommandations.model')"
   ]
  },
  {
   "cell_type": "code",
   "execution_count": 15,
   "metadata": {},
   "outputs": [
    {
     "data": {
      "text/plain": [
       "[('Faith Evans', 0.2266390025615692),\n",
       " ('Bea Miller', 0.20767760276794434),\n",
       " ('Lil Tecca', 0.20128928124904633),\n",
       " ('John Mellencamp', 0.1966869831085205),\n",
       " ('Ed Sheeran', 0.19596438109874725),\n",
       " ('Montrose', 0.1913846731185913),\n",
       " ('8Ball', 0.17415890097618103),\n",
       " ('Bryan Adams', 0.17360085248947144),\n",
       " ('Stormzy', 0.17139051854610443),\n",
       " ('The Black Keys', 0.16753362119197845)]"
      ]
     },
     "execution_count": 15,
     "metadata": {},
     "output_type": "execute_result"
    }
   ],
   "source": [
    "modeling.wv.most_similar('Getter')"
   ]
  }
 ],
 "metadata": {
  "kernelspec": {
   "display_name": "Python 3 (ipykernel)",
   "language": "python",
   "name": "python3"
  },
  "language_info": {
   "codemirror_mode": {
    "name": "ipython",
    "version": 3
   },
   "file_extension": ".py",
   "mimetype": "text/x-python",
   "name": "python",
   "nbconvert_exporter": "python",
   "pygments_lexer": "ipython3",
   "version": "3.10.12"
  }
 },
 "nbformat": 4,
 "nbformat_minor": 4
}
